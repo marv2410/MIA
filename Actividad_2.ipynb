{
 "cells": [
  {
   "cell_type": "markdown",
   "metadata": {},
   "source": [
    "## Ejercicio 1\n",
    "\n",
    "Escribe una función llamada ejercicio1 que genere una lista con 15 valores enteros aleatorios que vayan de 1 a 100. La función debe devolver la lista con todos los valores.\n"
   ]
  },
  {
   "cell_type": "code",
   "execution_count": 10,
   "metadata": {
    "scrolled": false
   },
   "outputs": [],
   "source": [
    "def ejercicio1():\n",
    "    import random\n",
    "    numeros = list(range(0,15))\n",
    "    lista=[]\n",
    "    for n in numeros:\n",
    "        lista.insert(n,random.randint(1,100))\n",
    "    return lista"
   ]
  },
  {
   "cell_type": "markdown",
   "metadata": {},
   "source": [
    "## Ejercicio 2\n",
    "\n",
    "Escribe una función llamada ejercicio2 que recibe 2 argumentos: el primero será la lista que hemos implementado en el Ejercicio 1 y el segundo un número por el que se dividirá cada uno de los elementos de la lista. El resultado será una nueva lista."
   ]
  },
  {
   "cell_type": "code",
   "execution_count": 11,
   "metadata": {},
   "outputs": [],
   "source": [
    "def ejercicio2(lista=[],divisor=3):\n",
    "    lista_resultado=[]\n",
    "    numero=len(lista)\n",
    "    for n in range(0,numero):\n",
    "        lista_resultado.insert(n,lista[n]/divisor)\n",
    "    return lista_resultado"
   ]
  },
  {
   "cell_type": "markdown",
   "metadata": {},
   "source": [
    "## Ejercicio 3\n",
    "\n",
    "Usando funciones anónimas, crea una nueva lista que contenga los valores enteros de cada uno de los elementos de la lista que devuelve la función implementada en el Ejercicio 2."
   ]
  },
  {
   "cell_type": "code",
   "execution_count": 15,
   "metadata": {
    "scrolled": false
   },
   "outputs": [],
   "source": [
    "def ejercicio3(lista=[]):\n",
    "    import math\n",
    "    es_entero = lambda numero: math.trunc(numero) \n",
    "    lista_resultado=list(map(es_entero, lista)) \n",
    "    return lista_resultado"
   ]
  },
  {
   "cell_type": "markdown",
   "metadata": {},
   "source": [
    "## Ejercicio 4\n",
    "\n",
    "Implementa una función, llamada ejercicio4, que reciba como argumentos dos números enteros y devuelva en una tupla los siguientes valores: el factorial del primer argumento y el máximo común divisor de ambos argumentos."
   ]
  },
  {
   "cell_type": "code",
   "execution_count": 13,
   "metadata": {},
   "outputs": [],
   "source": [
    "def ejercicio4(n, m):\n",
    "    # Escribe tu programa aquí\n",
    "    import math\n",
    "    factor = math.factorial(n)\n",
    "    mcd = math.gcd(n, m)\n",
    "    return factor, mcd"
   ]
  },
  {
   "cell_type": "markdown",
   "metadata": {},
   "source": [
    "## Ejercicio 5\n",
    "\n",
    "Crea una función ejercicio5 que devuelva una lista con todos los valores contenidos en una lista que se pasa por argumento pero eliminando los valores repetidos. Prueba el funcionamiento de esta función con la lista obtenida en el Ejercicio 1."
   ]
  },
  {
   "cell_type": "code",
   "execution_count": 14,
   "metadata": {},
   "outputs": [],
   "source": [
    "def ejercicio5(lista=[]):\n",
    "    lista_resultado=list(set(lista))\n",
    "    return lista_resultado"
   ]
  }
 ],
 "metadata": {
  "kernelspec": {
   "display_name": "Python 3",
   "language": "python",
   "name": "python3"
  },
  "language_info": {
   "codemirror_mode": {
    "name": "ipython",
    "version": 3
   },
   "file_extension": ".py",
   "mimetype": "text/x-python",
   "name": "python",
   "nbconvert_exporter": "python",
   "pygments_lexer": "ipython3",
   "version": "3.8.5"
  }
 },
 "nbformat": 4,
 "nbformat_minor": 2
}
