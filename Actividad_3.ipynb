{
 "cells": [
  {
   "cell_type": "markdown",
   "metadata": {},
   "source": [
    "En la siguiente celda, completa los siguientes ejercicios:\n",
    "\n",
    "## Ejercicio 1\n",
    "\n",
    "Escribe una clase llamada Numero. Esta clase debe tener una constructora que reciba un número y almacene ese número en 2 atributos: romano que almacenará el número en el formato de número romanos como una cadena de caracteres y normal que guardará el número que nos han dado en la constructora.\n",
    "\n",
    "## Ejercicio 2\n",
    "Crea dos nuevos métodos en la clase Numero. El primer método, llamado imprime() imprime un mensaje mostrando el valor de ambos atributos; el segundo atributo, suma_romano() tendrá como parámetros una cadena de caracteres que representará otro número romano y que sumaremos a los atributos que ya teníamos.\n",
    "\n",
    "## Ejercicio 3\n",
    "\n",
    "Define una función dentro de la clase Numero que a partir de una cadena de caracteres, devuelve True si esa cadena de caracteres corresponde con un número romano y falso en caso contrario. Después, modifica el método para que lance un error en el caso de que el valor que nos pasan por parámetro no se corresponde con el patrón de un número romano"
   ]
  },
  {
   "cell_type": "code",
   "execution_count": 21,
   "metadata": {},
   "outputs": [],
   "source": [
    "class Numero:\n",
    "    def __init__(self,numero):\n",
    "        num=str(numero)\n",
    "        if num.isnumeric():\n",
    "            self.normal=numero\n",
    "            self.romano=self.numero_to_romano()\n",
    "        else:\n",
    "            self.normal=self.romano_to_numero(numero)\n",
    "            self.romano=numero\n",
    "     \n",
    "    def actualiza_normal(self,nuevo_normal):\n",
    "        self.normal=nuevo_normal\n",
    "    \n",
    "    def actualiza_romano(self,nuevo_romano):\n",
    "        self.romano=nuevo_romano\n",
    "      \n",
    "    def numero_to_romano(self):\n",
    "        num = [1, 4, 5, 9, 10, 40, 50, 90,100, 400, 500, 900, 1000]\n",
    "        sym = [\"I\", \"IV\", \"V\", \"IX\", \"X\", \"XL\", \"L\", \"XC\", \"C\", \"CD\", \"D\", \"CM\", \"M\"]\n",
    "        romano = []\n",
    "        i = 12\n",
    "        valor = self.normal\n",
    "        while valor:\n",
    "            div = valor // num[i]\n",
    "            valor %= num[i]\n",
    "            while div:\n",
    "                romano.append(sym[i])\n",
    "                div -= 1\n",
    "            i -= 1\n",
    "\n",
    "        return \"\".join(romano)\n",
    "\n",
    "    def imprime (self):\n",
    "        print(self.normal)\n",
    "        print(self.romano)\n",
    "\n",
    "    def romano_to_numero(self,romano):\n",
    "        try:\n",
    "            numero_normal = [1,5,10,50,100,500,1000]\n",
    "            numero_romano = ['I','V','X','L','C','D','M']\n",
    "            i=0\n",
    "            valor_numero=list(range(len(romano)))\n",
    "            normal=0\n",
    "            for n in romano:\n",
    "                valor_numero[i]=numero_normal[numero_romano.index(n)]\n",
    "            #    print(valor_numero[i])\n",
    "                i+=1 \n",
    "            for n in list(range(len(romano))):\n",
    "                if n==0:\n",
    "                    normal=valor_numero[n]\n",
    "                elif n+1<len(romano):\n",
    "                    if (valor_numero[n]<valor_numero[n+1] ):\n",
    "                        normal=normal-valor_numero[n]\n",
    "                    else:\n",
    "                        normal=normal+valor_numero[n]\n",
    "                else: \n",
    "                    normal=normal+valor_numero[n]\n",
    "            return normal\n",
    "        except ValueError:\n",
    "            print(\"Oops!  El número ingresado no corresponde a un número romano\")\n",
    "            \n",
    "    def suma_romano(self,nuevo_romano):\n",
    "        nuevo_normal=self.romano_to_numero(nuevo_romano)\n",
    "        suma=self.normal+nuevo_normal\n",
    "        self.actualiza_normal(suma)\n",
    "        self.actualiza_romano(suma.numero_to_romano())\n",
    "       "
   ]
  },
  {
   "cell_type": "code",
   "execution_count": 22,
   "metadata": {},
   "outputs": [],
   "source": [
    "aux=Numero(1672)"
   ]
  },
  {
   "cell_type": "code",
   "execution_count": 25,
   "metadata": {},
   "outputs": [
    {
     "name": "stdout",
     "output_type": "stream",
     "text": [
      "1682\n",
      "MDCLXXII\n"
     ]
    }
   ],
   "source": [
    "aux.imprime()"
   ]
  },
  {
   "cell_type": "code",
   "execution_count": 24,
   "metadata": {},
   "outputs": [
    {
     "ename": "AttributeError",
     "evalue": "'int' object has no attribute 'numero_to_romano'",
     "output_type": "error",
     "traceback": [
      "\u001b[1;31m---------------------------------------------------------------------------\u001b[0m",
      "\u001b[1;31mAttributeError\u001b[0m                            Traceback (most recent call last)",
      "\u001b[1;32m<ipython-input-24-be279970435d>\u001b[0m in \u001b[0;36m<module>\u001b[1;34m\u001b[0m\n\u001b[1;32m----> 1\u001b[1;33m \u001b[0maux\u001b[0m\u001b[1;33m.\u001b[0m\u001b[0msuma_romano\u001b[0m\u001b[1;33m(\u001b[0m\u001b[1;34m'X'\u001b[0m\u001b[1;33m)\u001b[0m\u001b[1;33m\u001b[0m\u001b[1;33m\u001b[0m\u001b[0m\n\u001b[0m",
      "\u001b[1;32m<ipython-input-21-ca6710b3a6bb>\u001b[0m in \u001b[0;36msuma_romano\u001b[1;34m(self, nuevo_romano)\u001b[0m\n\u001b[0;32m     64\u001b[0m         \u001b[0msuma\u001b[0m\u001b[1;33m=\u001b[0m\u001b[0mself\u001b[0m\u001b[1;33m.\u001b[0m\u001b[0mnormal\u001b[0m\u001b[1;33m+\u001b[0m\u001b[0mnuevo_normal\u001b[0m\u001b[1;33m\u001b[0m\u001b[1;33m\u001b[0m\u001b[0m\n\u001b[0;32m     65\u001b[0m         \u001b[0mself\u001b[0m\u001b[1;33m.\u001b[0m\u001b[0mactualiza_normal\u001b[0m\u001b[1;33m(\u001b[0m\u001b[0msuma\u001b[0m\u001b[1;33m)\u001b[0m\u001b[1;33m\u001b[0m\u001b[1;33m\u001b[0m\u001b[0m\n\u001b[1;32m---> 66\u001b[1;33m         \u001b[0mself\u001b[0m\u001b[1;33m.\u001b[0m\u001b[0mactualiza_romano\u001b[0m\u001b[1;33m(\u001b[0m\u001b[0msuma\u001b[0m\u001b[1;33m.\u001b[0m\u001b[0mnumero_to_romano\u001b[0m\u001b[1;33m(\u001b[0m\u001b[1;33m)\u001b[0m\u001b[1;33m)\u001b[0m\u001b[1;33m\u001b[0m\u001b[1;33m\u001b[0m\u001b[0m\n\u001b[0m\u001b[0;32m     67\u001b[0m \u001b[1;33m\u001b[0m\u001b[0m\n",
      "\u001b[1;31mAttributeError\u001b[0m: 'int' object has no attribute 'numero_to_romano'"
     ]
    }
   ],
   "source": [
    "aux.suma_romano('X')"
   ]
  },
  {
   "cell_type": "markdown",
   "metadata": {},
   "source": [
    "En la siguiente celda, completa los siguientes ejercicios:\n",
    "\n",
    "## Ejercicio 4\n",
    "\n",
    "Implementa una clase MejorNumero. Esta clase heredará las propiedades de Numero e incluirá dos métodos nuevos para restar y multiplicar los atributos recibiendo por parámetro otro número romano.\n",
    "\n",
    "## Ejercicio 5\n",
    "\n",
    "En la clase MejorNumero, crea un nuevo método que reciba una lista con 3 números romanos. A continuación, iterando sobre los elementos de la lista llamará a la función suma_romano(). Los posibles errores se tendrán que gestionar con excepciones para mostrar un mensaje y seguir ejecutando el siguiente número."
   ]
  },
  {
   "cell_type": "code",
   "execution_count": null,
   "metadata": {},
   "outputs": [],
   "source": []
  }
 ],
 "metadata": {
  "kernelspec": {
   "display_name": "Python 3",
   "language": "python",
   "name": "python3"
  },
  "language_info": {
   "codemirror_mode": {
    "name": "ipython",
    "version": 3
   },
   "file_extension": ".py",
   "mimetype": "text/x-python",
   "name": "python",
   "nbconvert_exporter": "python",
   "pygments_lexer": "ipython3",
   "version": "3.8.5"
  }
 },
 "nbformat": 4,
 "nbformat_minor": 2
}
